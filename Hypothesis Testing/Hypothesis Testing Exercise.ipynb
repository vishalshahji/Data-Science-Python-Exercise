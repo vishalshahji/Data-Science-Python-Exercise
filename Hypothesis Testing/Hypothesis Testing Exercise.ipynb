{
 "cells": [
  {
   "cell_type": "markdown",
   "id": "1ab95e98",
   "metadata": {},
   "source": [
    "# Assignment 3 Solutions\n",
    "\n"
   ]
  },
  {
   "cell_type": "markdown",
   "id": "900fb55a",
   "metadata": {},
   "source": [
    "## Importing Required Packages"
   ]
  },
  {
   "cell_type": "code",
   "execution_count": 43,
   "id": "18422bb3",
   "metadata": {},
   "outputs": [],
   "source": [
    "# importing required packages\n",
    "import pandas as pd\n",
    "import numpy as np\n",
    "import matplotlib.pyplot as plt\n",
    "import statsmodels.api as sm\n",
    "from scipy.stats import spearmanr\n",
    "from scipy.stats import shapiro\n",
    "from scipy.stats import ttest_ind\n",
    "from scipy.stats import f_oneway\n",
    "from scipy.stats import chi2_contingency"
   ]
  },
  {
   "cell_type": "markdown",
   "id": "91d76840",
   "metadata": {},
   "source": [
    "### Question 1"
   ]
  },
  {
   "cell_type": "markdown",
   "id": "4c3e6a4c",
   "metadata": {},
   "source": [
    "A F&B manager wants to determine whether there is any significant difference in the diameter of the cutlet between two units. A randomly selected sample of cutlets was collected from both units and measured? Analyze the data and draw inferences at 5% significance level. Please state the assumptions and tests that you carried out to check validity of the assumptions.\n"
   ]
  },
  {
   "cell_type": "markdown",
   "id": "9b7c639e",
   "metadata": {},
   "source": [
    "### Solution"
   ]
  },
  {
   "cell_type": "markdown",
   "id": "ec81c248",
   "metadata": {},
   "source": [
    "Importing the data and take a look at it."
   ]
  },
  {
   "cell_type": "code",
   "execution_count": 44,
   "id": "eeb6676b",
   "metadata": {},
   "outputs": [
    {
     "data": {
      "text/html": [
       "<div>\n",
       "<style scoped>\n",
       "    .dataframe tbody tr th:only-of-type {\n",
       "        vertical-align: middle;\n",
       "    }\n",
       "\n",
       "    .dataframe tbody tr th {\n",
       "        vertical-align: top;\n",
       "    }\n",
       "\n",
       "    .dataframe thead th {\n",
       "        text-align: right;\n",
       "    }\n",
       "</style>\n",
       "<table border=\"1\" class=\"dataframe\">\n",
       "  <thead>\n",
       "    <tr style=\"text-align: right;\">\n",
       "      <th></th>\n",
       "      <th>Unit A</th>\n",
       "      <th>Unit B</th>\n",
       "    </tr>\n",
       "  </thead>\n",
       "  <tbody>\n",
       "    <tr>\n",
       "      <th>0</th>\n",
       "      <td>6.8090</td>\n",
       "      <td>6.7703</td>\n",
       "    </tr>\n",
       "    <tr>\n",
       "      <th>1</th>\n",
       "      <td>6.4376</td>\n",
       "      <td>7.5093</td>\n",
       "    </tr>\n",
       "    <tr>\n",
       "      <th>2</th>\n",
       "      <td>6.9157</td>\n",
       "      <td>6.7300</td>\n",
       "    </tr>\n",
       "    <tr>\n",
       "      <th>3</th>\n",
       "      <td>7.3012</td>\n",
       "      <td>6.7878</td>\n",
       "    </tr>\n",
       "    <tr>\n",
       "      <th>4</th>\n",
       "      <td>7.4488</td>\n",
       "      <td>7.1522</td>\n",
       "    </tr>\n",
       "  </tbody>\n",
       "</table>\n",
       "</div>"
      ],
      "text/plain": [
       "   Unit A  Unit B\n",
       "0  6.8090  6.7703\n",
       "1  6.4376  7.5093\n",
       "2  6.9157  6.7300\n",
       "3  7.3012  6.7878\n",
       "4  7.4488  7.1522"
      ]
     },
     "execution_count": 44,
     "metadata": {},
     "output_type": "execute_result"
    }
   ],
   "source": [
    "cutlets = pd.read_csv('Cutlets.csv')\n",
    "cutlets.head()\n"
   ]
  },
  {
   "cell_type": "markdown",
   "id": "b90e4ddb",
   "metadata": {},
   "source": [
    "**Step 1:** State the hypotheses\n",
    "\n",
    "Null hypothesis (H₀): There is no significant difference in the diameter of the \n",
    "cutlets between the two units.\n",
    "\n",
    "Alternative hypothesis (H₁): There is a significant difference in the diameter \n",
    "of the cutlets between the two units."
   ]
  },
  {
   "cell_type": "markdown",
   "id": "d3b57bd4",
   "metadata": {},
   "source": [
    "**Step 2:** Testing the validity of the assumptions that the samples were randomly selected, are independent \n",
    "of one another, and follow a normal distribution. \n",
    "\n",
    "First, we conduct the **Durbin-Watson test** to test the randomness of the data."
   ]
  },
  {
   "cell_type": "code",
   "execution_count": 46,
   "id": "ca5618b3",
   "metadata": {},
   "outputs": [
    {
     "name": "stdout",
     "output_type": "stream",
     "text": [
      "Durbin-Watson statistic: 2.6042413709944587\n"
     ]
    }
   ],
   "source": [
    "# Extract the data from the dataframe\n",
    "x = cutlets['Unit A']\n",
    "y = cutlets['Unit B']\n",
    "\n",
    "# Add a constant term to the predictor variable\n",
    "x = sm.add_constant(x)\n",
    "\n",
    "# Fit an ordinary least squares (OLS) regression model\n",
    "model = sm.OLS(y, x)\n",
    "results = model.fit()\n",
    "\n",
    "# Perform the Durbin-Watson test on the residuals\n",
    "durbin_watson_statistic = sm.stats.stattools.durbin_watson(results.resid)\n",
    "\n",
    "# Print the Durbin-Watson statistic\n",
    "print(\"Durbin-Watson statistic:\", durbin_watson_statistic)"
   ]
  },
  {
   "cell_type": "markdown",
   "id": "f136f5f4",
   "metadata": {},
   "source": [
    "Since, the **Durbin-Watson statistic**  ranges from 0 to 4, where a value around 2 indicates no autocorrelation, while values below 2 suggest positive autocorrelation, and values above 2 suggest negative autocorrelation. So, other than a the possibility of a slight negative autocorrelation after getting a **Durbin-Watson statistic** of 2.6 (rounded down to 2 decimal points), the data is mostly randomly selected. "
   ]
  },
  {
   "cell_type": "markdown",
   "id": "e3247f76",
   "metadata": {},
   "source": [
    "Now, we conduct the **Spearman's rank correlation test** to test whether the samples are independent of each other since the data is continuous."
   ]
  },
  {
   "cell_type": "code",
   "execution_count": 47,
   "id": "a7ef58c7",
   "metadata": {},
   "outputs": [
    {
     "name": "stdout",
     "output_type": "stream",
     "text": [
      "Correlation coefficient: 0.04537815126050421\n",
      "P-value: 0.7957554247873968\n"
     ]
    }
   ],
   "source": [
    "# Extract the data from the dataframe\n",
    "a = cutlets['Unit A']\n",
    "b = cutlets['Unit B']\n",
    "\n",
    "# Perform the Spearman's rank correlation test\n",
    "correlation_coefficient, p_value = spearmanr(a, b)\n",
    "\n",
    "# Print the correlation coefficient and p-value\n",
    "print(\"Correlation coefficient:\", correlation_coefficient)\n",
    "print(\"P-value:\", p_value)"
   ]
  },
  {
   "cell_type": "markdown",
   "id": "7f0b5ed1",
   "metadata": {},
   "source": [
    "Here the Correlation coefficient is close to 0, which tells us that there is no monotonic relationship between the samples. The p-value represents the probability of observing the calculated correlation coefficient by chance alone, assuming the null hypothesis of no correlation. we can conclude that the samples are independent of one another."
   ]
  },
  {
   "cell_type": "markdown",
   "id": "b414ba75",
   "metadata": {},
   "source": [
    "Finally, we conduct the **Shapiro-Wilk Test** to test the normality of the data."
   ]
  },
  {
   "cell_type": "code",
   "execution_count": 48,
   "id": "d207e853",
   "metadata": {},
   "outputs": [
    {
     "name": "stdout",
     "output_type": "stream",
     "text": [
      "Using Shapiro-Wilk Test we conclude that the cutlets data is nearly normally distributed\n"
     ]
    }
   ],
   "source": [
    "stat, p = shapiro(cutlets)\n",
    "\n",
    "if p > 0.05:\n",
    "    print('Using Shapiro-Wilk Test we conclude that the cutlets data is nearly normally distributed')\n",
    "else:\n",
    "    print('Using Shapiro-Wilk Test we conclude that the cutlets data is probably not normally distributed')"
   ]
  },
  {
   "cell_type": "markdown",
   "id": "85bf224b",
   "metadata": {},
   "source": [
    "**Step 3:** Choose the Significance Level"
   ]
  },
  {
   "cell_type": "code",
   "execution_count": 49,
   "id": "e968592e",
   "metadata": {},
   "outputs": [],
   "source": [
    "alpha = 0.05"
   ]
  },
  {
   "cell_type": "markdown",
   "id": "3b148189",
   "metadata": {},
   "source": [
    "**Step 4:** Conduct the appropriate hypothesis test. Since  we are comparing the means of two groups, we can use the independent **two-sampled t-test**."
   ]
  },
  {
   "cell_type": "code",
   "execution_count": 50,
   "id": "ee887adf",
   "metadata": {},
   "outputs": [
    {
     "name": "stdout",
     "output_type": "stream",
     "text": [
      "Average diameter of cutlets in Unit A: 7.0190914285714285\n",
      "Average diameter of cutlets in Unit B: 6.964297142857142\n",
      "The t-statistic is: 0.7228688704678063\n",
      "The p-value is    : 0.47223947245995\n",
      "We accept the Null hypothesis and conclude that there is no significant difference in the diameter of cutlets between the two units\n"
     ]
    }
   ],
   "source": [
    "print('Average diameter of cutlets in Unit A:', np.mean(cutlets['Unit A']))    \n",
    "print('Average diameter of cutlets in Unit B:', np.mean(cutlets['Unit B']))\n",
    "\n",
    "t_statistic, p_value = ttest_ind(cutlets['Unit A'], cutlets['Unit B'])\n",
    "\n",
    "print('The t-statistic is:', t_statistic)\n",
    "print('The p-value is    :', p_value)\n",
    "\n",
    "if p_value < 0.05:\n",
    "    print('We can reject the Null hypotheseis and conclude that there is a significant difference in the diameter of the cutlets between two units')\n",
    "else:\n",
    "    print('We accept the Null hypothesis and conclude that there is no significant difference in the diameter of cutlets between the two units')"
   ]
  },
  {
   "cell_type": "markdown",
   "id": "721f387d",
   "metadata": {},
   "source": [
    "### Question 2"
   ]
  },
  {
   "cell_type": "markdown",
   "id": "b1407770",
   "metadata": {},
   "source": [
    "A hospital wants to determine whether there is any difference in the average Turn Around Time (TAT) of reports of the laboratories on their preferred list. They collected a random sample and recorded TAT for reports of 4 laboratories. TAT is defined as sample collected to report dispatch.\n",
    "   \n",
    "Analyze the data and determine whether there is any difference in average TAT among the different laboratories at 5% significance level.\n"
   ]
  },
  {
   "cell_type": "markdown",
   "id": "6a7b07b2",
   "metadata": {},
   "source": [
    "### Solution"
   ]
  },
  {
   "cell_type": "markdown",
   "id": "da84fcce",
   "metadata": {},
   "source": [
    "Importing the data and take a look at it."
   ]
  },
  {
   "cell_type": "code",
   "execution_count": 51,
   "id": "7c5d8270",
   "metadata": {},
   "outputs": [
    {
     "data": {
      "text/html": [
       "<div>\n",
       "<style scoped>\n",
       "    .dataframe tbody tr th:only-of-type {\n",
       "        vertical-align: middle;\n",
       "    }\n",
       "\n",
       "    .dataframe tbody tr th {\n",
       "        vertical-align: top;\n",
       "    }\n",
       "\n",
       "    .dataframe thead th {\n",
       "        text-align: right;\n",
       "    }\n",
       "</style>\n",
       "<table border=\"1\" class=\"dataframe\">\n",
       "  <thead>\n",
       "    <tr style=\"text-align: right;\">\n",
       "      <th></th>\n",
       "      <th>Laboratory 1</th>\n",
       "      <th>Laboratory 2</th>\n",
       "      <th>Laboratory 3</th>\n",
       "      <th>Laboratory 4</th>\n",
       "    </tr>\n",
       "  </thead>\n",
       "  <tbody>\n",
       "    <tr>\n",
       "      <th>0</th>\n",
       "      <td>185.35</td>\n",
       "      <td>165.53</td>\n",
       "      <td>176.70</td>\n",
       "      <td>166.13</td>\n",
       "    </tr>\n",
       "    <tr>\n",
       "      <th>1</th>\n",
       "      <td>170.49</td>\n",
       "      <td>185.91</td>\n",
       "      <td>198.45</td>\n",
       "      <td>160.79</td>\n",
       "    </tr>\n",
       "    <tr>\n",
       "      <th>2</th>\n",
       "      <td>192.77</td>\n",
       "      <td>194.92</td>\n",
       "      <td>201.23</td>\n",
       "      <td>185.18</td>\n",
       "    </tr>\n",
       "    <tr>\n",
       "      <th>3</th>\n",
       "      <td>177.33</td>\n",
       "      <td>183.00</td>\n",
       "      <td>199.61</td>\n",
       "      <td>176.42</td>\n",
       "    </tr>\n",
       "    <tr>\n",
       "      <th>4</th>\n",
       "      <td>193.41</td>\n",
       "      <td>169.57</td>\n",
       "      <td>204.63</td>\n",
       "      <td>152.60</td>\n",
       "    </tr>\n",
       "  </tbody>\n",
       "</table>\n",
       "</div>"
      ],
      "text/plain": [
       "   Laboratory 1  Laboratory 2  Laboratory 3  Laboratory 4\n",
       "0        185.35        165.53        176.70        166.13\n",
       "1        170.49        185.91        198.45        160.79\n",
       "2        192.77        194.92        201.23        185.18\n",
       "3        177.33        183.00        199.61        176.42\n",
       "4        193.41        169.57        204.63        152.60"
      ]
     },
     "execution_count": 51,
     "metadata": {},
     "output_type": "execute_result"
    }
   ],
   "source": [
    "lab = pd.read_csv('LabTAT.csv')\n",
    "lab.head()"
   ]
  },
  {
   "cell_type": "code",
   "execution_count": 52,
   "id": "d88cd4ae",
   "metadata": {},
   "outputs": [
    {
     "name": "stdout",
     "output_type": "stream",
     "text": [
      "F-statistic: 118.70421654401437\n",
      "P-value: 2.1156708949992414e-57\n"
     ]
    }
   ],
   "source": [
    "# Extract TAT values for each laboratory\n",
    "lab1 = lab['Laboratory 1']\n",
    "lab2 = lab['Laboratory 2']\n",
    "lab3 = lab['Laboratory 3']\n",
    "lab4 = lab['Laboratory 4']\n",
    "\n",
    "# Perform one-way ANOVA\n",
    "f_statistic, p_value = f_oneway(lab1, lab2, lab3, lab4)\n",
    "\n",
    "# Print the F-statistic and p-value\n",
    "print(\"F-statistic:\", f_statistic)\n",
    "print(\"P-value:\", p_value)"
   ]
  },
  {
   "cell_type": "markdown",
   "id": "bdefc553",
   "metadata": {},
   "source": [
    "Since the p-value is less than the significance level of 0.05, it suggests that there is evidence of a significant difference in the average TAT among the laboratories."
   ]
  },
  {
   "cell_type": "markdown",
   "id": "608ac764",
   "metadata": {},
   "source": [
    "### Question 3"
   ]
  },
  {
   "cell_type": "markdown",
   "id": "9bda72ed",
   "metadata": {},
   "source": [
    "Sales of products in four different regions is tabulated for males and females. Find if male-female buyer rations are similar across regions."
   ]
  },
  {
   "cell_type": "markdown",
   "id": "5e85191e",
   "metadata": {},
   "source": [
    "### Solution"
   ]
  },
  {
   "cell_type": "markdown",
   "id": "b7f58307",
   "metadata": {},
   "source": [
    "Importing the data and take a look at it."
   ]
  },
  {
   "cell_type": "code",
   "execution_count": 91,
   "id": "cacbb524",
   "metadata": {},
   "outputs": [
    {
     "data": {
      "text/html": [
       "<div>\n",
       "<style scoped>\n",
       "    .dataframe tbody tr th:only-of-type {\n",
       "        vertical-align: middle;\n",
       "    }\n",
       "\n",
       "    .dataframe tbody tr th {\n",
       "        vertical-align: top;\n",
       "    }\n",
       "\n",
       "    .dataframe thead th {\n",
       "        text-align: right;\n",
       "    }\n",
       "</style>\n",
       "<table border=\"1\" class=\"dataframe\">\n",
       "  <thead>\n",
       "    <tr style=\"text-align: right;\">\n",
       "      <th></th>\n",
       "      <th>Observed Values</th>\n",
       "      <th>East</th>\n",
       "      <th>West</th>\n",
       "      <th>North</th>\n",
       "      <th>South</th>\n",
       "    </tr>\n",
       "  </thead>\n",
       "  <tbody>\n",
       "    <tr>\n",
       "      <th>0</th>\n",
       "      <td>Males</td>\n",
       "      <td>50</td>\n",
       "      <td>142</td>\n",
       "      <td>131</td>\n",
       "      <td>70</td>\n",
       "    </tr>\n",
       "    <tr>\n",
       "      <th>1</th>\n",
       "      <td>Females</td>\n",
       "      <td>435</td>\n",
       "      <td>1523</td>\n",
       "      <td>1356</td>\n",
       "      <td>750</td>\n",
       "    </tr>\n",
       "  </tbody>\n",
       "</table>\n",
       "</div>"
      ],
      "text/plain": [
       "  Observed Values  East  West  North  South\n",
       "0           Males    50   142    131     70\n",
       "1         Females   435  1523   1356    750"
      ]
     },
     "execution_count": 91,
     "metadata": {},
     "output_type": "execute_result"
    }
   ],
   "source": [
    "buyr = pd.read_csv('BuyerRatio.csv')\n",
    "buyr.head()"
   ]
  },
  {
   "cell_type": "markdown",
   "id": "d156ceb0",
   "metadata": {},
   "source": [
    "To determine if the male-female buyer ratios are similar across regions, you can perform a statistical test called the **Chi-Square test of independence**. This test assesses whether there is an association between two categorical variables.\n",
    "\n",
    "Let's take a significance level of 0.1"
   ]
  },
  {
   "cell_type": "code",
   "execution_count": 94,
   "id": "479b76a8",
   "metadata": {},
   "outputs": [
    {
     "name": "stdout",
     "output_type": "stream",
     "text": [
      "        East  West  North  South\n",
      "Male      50   142    131     70\n",
      "Female   435  1523   1356    750\n"
     ]
    }
   ],
   "source": [
    "# Create a dataframe with the sales data\n",
    "buyr = pd.DataFrame({\n",
    "    'East': [50, 435],\n",
    "    'West': [142, 1523],\n",
    "    'North': [131, 1356],\n",
    "    'South': [70, 750]\n",
    "}, index=['Male', 'Female'])\n",
    "\n",
    "# Display the contingency table\n",
    "print(buyr)"
   ]
  },
  {
   "cell_type": "code",
   "execution_count": 95,
   "id": "187855d8",
   "metadata": {},
   "outputs": [
    {
     "name": "stdout",
     "output_type": "stream",
     "text": [
      "Chi-Square statistic: 1.595945538661058\n",
      "P-value: 0.6603094907091882\n"
     ]
    }
   ],
   "source": [
    "# Perform the Chi-Square test of independence\n",
    "chi2, p_value, dof, expected = chi2_contingency(buyr)\n",
    "\n",
    "# Print the test statistics and p-value\n",
    "print(\"Chi-Square statistic:\", chi2)\n",
    "print(\"P-value:\", p_value)"
   ]
  },
  {
   "cell_type": "markdown",
   "id": "7dac9c2a",
   "metadata": {},
   "source": [
    "Since the p-value is greater than the significance level of 0.1, it indicates that the male-female buyer ratios are similar across regions, suggesting no significant association."
   ]
  },
  {
   "cell_type": "markdown",
   "id": "1b4fe3f5",
   "metadata": {},
   "source": [
    "### Question 4"
   ]
  },
  {
   "attachments": {},
   "cell_type": "markdown",
   "id": "8a9346ed",
   "metadata": {},
   "source": [
    "TeleCall uses 4 centers around the globe to process customer order forms. They audit a certain % of the customer order forms. Any error in order form renders it defective and has to be reworked before processing.  The manager wants to check whether the defective % varies by centre. Please analyze the data at 5% significance level and help the manager draw appropriate inferences."
   ]
  },
  {
   "cell_type": "markdown",
   "id": "17209685",
   "metadata": {},
   "source": [
    "### Solution"
   ]
  },
  {
   "cell_type": "markdown",
   "id": "9b387cce",
   "metadata": {},
   "source": [
    "Importing the data and take a look at it."
   ]
  },
  {
   "cell_type": "code",
   "execution_count": 126,
   "id": "517c765c",
   "metadata": {},
   "outputs": [
    {
     "data": {
      "text/html": [
       "<div>\n",
       "<style scoped>\n",
       "    .dataframe tbody tr th:only-of-type {\n",
       "        vertical-align: middle;\n",
       "    }\n",
       "\n",
       "    .dataframe tbody tr th {\n",
       "        vertical-align: top;\n",
       "    }\n",
       "\n",
       "    .dataframe thead th {\n",
       "        text-align: right;\n",
       "    }\n",
       "</style>\n",
       "<table border=\"1\" class=\"dataframe\">\n",
       "  <thead>\n",
       "    <tr style=\"text-align: right;\">\n",
       "      <th></th>\n",
       "      <th>Phillippines</th>\n",
       "      <th>Indonesia</th>\n",
       "      <th>Malta</th>\n",
       "      <th>India</th>\n",
       "    </tr>\n",
       "  </thead>\n",
       "  <tbody>\n",
       "    <tr>\n",
       "      <th>0</th>\n",
       "      <td>Error Free</td>\n",
       "      <td>Error Free</td>\n",
       "      <td>Defective</td>\n",
       "      <td>Error Free</td>\n",
       "    </tr>\n",
       "    <tr>\n",
       "      <th>1</th>\n",
       "      <td>Error Free</td>\n",
       "      <td>Error Free</td>\n",
       "      <td>Error Free</td>\n",
       "      <td>Defective</td>\n",
       "    </tr>\n",
       "    <tr>\n",
       "      <th>2</th>\n",
       "      <td>Error Free</td>\n",
       "      <td>Defective</td>\n",
       "      <td>Defective</td>\n",
       "      <td>Error Free</td>\n",
       "    </tr>\n",
       "    <tr>\n",
       "      <th>3</th>\n",
       "      <td>Error Free</td>\n",
       "      <td>Error Free</td>\n",
       "      <td>Error Free</td>\n",
       "      <td>Error Free</td>\n",
       "    </tr>\n",
       "    <tr>\n",
       "      <th>4</th>\n",
       "      <td>Error Free</td>\n",
       "      <td>Error Free</td>\n",
       "      <td>Defective</td>\n",
       "      <td>Error Free</td>\n",
       "    </tr>\n",
       "  </tbody>\n",
       "</table>\n",
       "</div>"
      ],
      "text/plain": [
       "  Phillippines   Indonesia       Malta       India\n",
       "0   Error Free  Error Free   Defective  Error Free\n",
       "1   Error Free  Error Free  Error Free   Defective\n",
       "2   Error Free   Defective   Defective  Error Free\n",
       "3   Error Free  Error Free  Error Free  Error Free\n",
       "4   Error Free  Error Free   Defective  Error Free"
      ]
     },
     "execution_count": 126,
     "metadata": {},
     "output_type": "execute_result"
    }
   ],
   "source": [
    "cof = pd.read_csv('Costomer+OrderForm.csv')\n",
    "cof.head()"
   ]
  },
  {
   "cell_type": "markdown",
   "id": "9431ba9d",
   "metadata": {},
   "source": [
    "To analyze the data and determine if the defective percentage varies by center, you can use a statistical test such as the **Chi-Square test of independence**."
   ]
  },
  {
   "cell_type": "code",
   "execution_count": 123,
   "id": "6042a10c",
   "metadata": {},
   "outputs": [
    {
     "name": "stdout",
     "output_type": "stream",
     "text": [
      "            Phillippines  Indonesia  Malta  India\n",
      "Error Free           271        267    269    280\n",
      "Defective             29         33     31     20\n"
     ]
    }
   ],
   "source": [
    "# Compute value counts for each column\n",
    "value_counts_cof = pd.DataFrame({\n",
    "    'Phillippines': cof['Phillippines'].value_counts(),\n",
    "    'Indonesia': cof['Indonesia'].value_counts(),\n",
    "    'Malta': cof['Malta'].value_counts(),\n",
    "    'India': cof['India'].value_counts()\n",
    "})\n",
    "\n",
    "# Display the value counts dataframe\n",
    "print(value_counts_cof)\n"
   ]
  },
  {
   "cell_type": "code",
   "execution_count": 125,
   "id": "d9554ffe",
   "metadata": {},
   "outputs": [
    {
     "name": "stdout",
     "output_type": "stream",
     "text": [
      "Chi-Square statistic: 3.858960685820355\n",
      "P-value: 0.2771020991233135\n"
     ]
    }
   ],
   "source": [
    "# Perform the Chi-Square test of independence\n",
    "chi2, p_value, dof, expected = chi2_contingency(value_counts_cof)\n",
    "\n",
    "# Print the test statistics and p-value\n",
    "print(\"Chi-Square statistic:\", chi2)\n",
    "print(\"P-value:\", p_value)"
   ]
  },
  {
   "cell_type": "markdown",
   "id": "b57d56f1",
   "metadata": {},
   "source": [
    "The p-value is greater than the significance level of 0.05, it indicates that the defective percentages do not vary significantly by center, suggesting no significant association."
   ]
  },
  {
   "cell_type": "code",
   "execution_count": null,
   "id": "8fbdef1c",
   "metadata": {},
   "outputs": [],
   "source": []
  }
 ],
 "metadata": {
  "kernelspec": {
   "display_name": "Python 3 (ipykernel)",
   "language": "python",
   "name": "python3"
  },
  "language_info": {
   "codemirror_mode": {
    "name": "ipython",
    "version": 3
   },
   "file_extension": ".py",
   "mimetype": "text/x-python",
   "name": "python",
   "nbconvert_exporter": "python",
   "pygments_lexer": "ipython3",
   "version": "3.11.3"
  }
 },
 "nbformat": 4,
 "nbformat_minor": 5
}
